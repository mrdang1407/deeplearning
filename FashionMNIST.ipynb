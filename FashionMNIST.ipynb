{
  "nbformat": 4,
  "nbformat_minor": 0,
  "metadata": {
    "colab": {
      "name": "FashionMNIST.ipynb",
      "version": "0.3.2",
      "provenance": [],
      "collapsed_sections": [],
      "include_colab_link": true
    },
    "kernelspec": {
      "name": "python3",
      "display_name": "Python 3"
    },
    "accelerator": "GPU"
  },
  "cells": [
    {
      "cell_type": "markdown",
      "metadata": {
        "id": "view-in-github",
        "colab_type": "text"
      },
      "source": [
        "<a href=\"https://colab.research.google.com/github/mrdang1407/deeplearning/blob/master/FashionMNIST.ipynb\" target=\"_parent\"><img src=\"https://colab.research.google.com/assets/colab-badge.svg\" alt=\"Open In Colab\"/></a>"
      ]
    },
    {
      "cell_type": "markdown",
      "metadata": {
        "id": "_uieUptZZSau",
        "colab_type": "text"
      },
      "source": [
        "## **Fashion MNIST**\n",
        "\n",
        "In this exercise, we will build a simple neural network to classify objects from Fashion MNIST dataset.\n",
        "\n",
        "## **YOUR TASKS:**\n",
        "\n",
        "1. Implementing PlotLosses class which is inherited from Callback class to plot the curves of training loss and validation loss during training\n",
        "\n",
        "2. Adding Dropout layers to the current model and try with several different settings to choose the best model\n",
        "\n",
        "3. Implementing EarlyStopping class (inherited from Callback) which will stop the training process if the accuracy of the validation set is larger than 90%\n",
        "\n",
        "4. Save the best model so far to Google Drive\n",
        "\n",
        "\n",
        "\n",
        "\n"
      ]
    },
    {
      "cell_type": "code",
      "metadata": {
        "id": "n9e46HK7bUgf",
        "colab_type": "code",
        "colab": {}
      },
      "source": [
        "from __future__ import absolute_import, division, print_function\n",
        "from tensorflow import keras\n",
        "from keras import Sequential, initializers\n",
        "from keras.layers import Flatten, Dense, Dropout\n",
        "from keras.callbacks import Callback, ModelCheckpoint\n",
        "from keras.optimizers import SGD\n",
        "\n",
        "# Helper libraries\n",
        "import numpy as np\n",
        "import matplotlib.pyplot as plt\n",
        "from IPython.display import clear_output\n",
        "\n",
        "seed = 7"
      ],
      "execution_count": 0,
      "outputs": []
    },
    {
      "cell_type": "markdown",
      "metadata": {
        "id": "P6QD1oaabW8j",
        "colab_type": "text"
      },
      "source": [
        "Load dataset"
      ]
    },
    {
      "cell_type": "code",
      "metadata": {
        "id": "kop24UxoZIck",
        "colab_type": "code",
        "colab": {}
      },
      "source": [
        "fashion_mnist = keras.datasets.fashion_mnist\n",
        "(train_images, train_labels), (test_images, test_labels) = fashion_mnist.load_data()\n",
        "class_names = ['T-shirt/top', 'Trouser', 'Pullover', 'Dress', 'Coat', \n",
        "               'Sandal', 'Shirt', 'Sneaker', 'Bag', 'Ankle boot']"
      ],
      "execution_count": 0,
      "outputs": []
    },
    {
      "cell_type": "markdown",
      "metadata": {
        "id": "3TW3YebjVx8y",
        "colab_type": "text"
      },
      "source": [
        "Normalize data"
      ]
    },
    {
      "cell_type": "code",
      "metadata": {
        "id": "vuLqyOFCVwUk",
        "colab_type": "code",
        "colab": {}
      },
      "source": [
        "train_images = train_images / 255.0\n",
        "test_images = test_images / 255.0"
      ],
      "execution_count": 0,
      "outputs": []
    },
    {
      "cell_type": "markdown",
      "metadata": {
        "id": "Oq6Y1YsObfbC",
        "colab_type": "text"
      },
      "source": [
        "Show the first 25 examples"
      ]
    },
    {
      "cell_type": "code",
      "metadata": {
        "id": "0DwOEpaLal0P",
        "colab_type": "code",
        "colab": {}
      },
      "source": [
        "plt.figure(figsize=(10,10))\n",
        "for i in range(25):\n",
        "    plt.subplot(5,5,i+1)\n",
        "    plt.xticks([])\n",
        "    plt.yticks([])\n",
        "    plt.grid(False)\n",
        "    plt.imshow(train_images[i], cmap=plt.cm.binary)\n",
        "    plt.xlabel(class_names[train_labels[i]])\n",
        "plt.show()"
      ],
      "execution_count": 0,
      "outputs": []
    },
    {
      "cell_type": "markdown",
      "metadata": {
        "id": "w7ESpn-0V65W",
        "colab_type": "text"
      },
      "source": [
        "Implementing PlotLosses class which is inherited from Callback class to plot the curves of training loss and validation loss during training"
      ]
    },
    {
      "cell_type": "code",
      "metadata": {
        "id": "RpkANJzAVYCT",
        "colab_type": "code",
        "colab": {}
      },
      "source": [
        "class PlotLosses(Callback):\n",
        "    def on_train_begin(self, logs={}):\n",
        "       # YOUR CODE HERE\n",
        "\n",
        "    def on_epoch_end(self, epoch, logs={}):\n",
        "        # YOUR CODE HERE\n",
        "        \n",
        "plot_losses = PlotLosses()"
      ],
      "execution_count": 0,
      "outputs": []
    },
    {
      "cell_type": "markdown",
      "metadata": {
        "id": "Q10hJhLkWRx4",
        "colab_type": "text"
      },
      "source": [
        " **YOUR TASK:**\n",
        "Implementing EarlyStopping class (inherited from Callback) which will stop the training process if the accuracy of the validation set is larger than 90%"
      ]
    },
    {
      "cell_type": "code",
      "metadata": {
        "id": "TAYtxeH_JtcX",
        "colab_type": "code",
        "colab": {}
      },
      "source": [
        "class EarlyStopping(Callback):\n",
        "  def on_epoch_end(self, epoch, logs={}):\n",
        "    # YOUR CODE HERE\n",
        "\n",
        "early_stopping = EarlyStopping()"
      ],
      "execution_count": 0,
      "outputs": []
    },
    {
      "cell_type": "markdown",
      "metadata": {
        "id": "moBmRw7Vb7nZ",
        "colab_type": "text"
      },
      "source": [
        "Define a simple dense connected model\n",
        "\n",
        "**YOUR TASK:** Adding Dropout layers to the current model and try with several different settings to choose the best model\n"
      ]
    },
    {
      "cell_type": "code",
      "metadata": {
        "id": "_xPe3hUBb0ld",
        "colab_type": "code",
        "colab": {}
      },
      "source": [
        "# YOUR CODE HERE\n",
        "model = Sequential([\n",
        "    Flatten(input_shape=(28, 28)),\n",
        "    Dense(256, activation='relu', kernel_initializer=initializers.glorot_normal(seed)),\n",
        "    Dense(128, activation='relu', kernel_initializer=initializers.glorot_normal(seed)),\n",
        "    Dense(32, activation='relu', kernel_initializer=initializers.glorot_normal(seed)),\n",
        "    Dense(10, activation='softmax', kernel_initializer=initializers.glorot_normal(seed))\n",
        "])\n",
        "sgd = SGD(lr=0.01, momentum=0.9)\n",
        "model.compile(optimizer=sgd,               \n",
        "              loss='sparse_categorical_crossentropy',\n",
        "              metrics=['accuracy'])"
      ],
      "execution_count": 0,
      "outputs": []
    },
    {
      "cell_type": "markdown",
      "metadata": {
        "id": "NgSV_ZdxcNUI",
        "colab_type": "text"
      },
      "source": [
        "Train the above model and test"
      ]
    },
    {
      "cell_type": "code",
      "metadata": {
        "id": "7dvBTpjTcQWC",
        "colab_type": "code",
        "colab": {}
      },
      "source": [
        "model.fit(train_images, train_labels, epochs=100,\n",
        "          validation_data=(test_images, test_labels), \n",
        "          verbose=0, callbacks=[plot_losses, early_stopping])\n",
        "\n",
        "test_loss, test_acc = model.evaluate(test_images, test_labels)\n",
        "print('Test accuracy:', test_acc)"
      ],
      "execution_count": 0,
      "outputs": []
    }
  ]
}