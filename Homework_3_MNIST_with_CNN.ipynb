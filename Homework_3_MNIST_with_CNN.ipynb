{
  "nbformat": 4,
  "nbformat_minor": 0,
  "metadata": {
    "colab": {
      "name": "Homework_3_MNIST_with_CNN.ipynb",
      "version": "0.3.2",
      "provenance": [],
      "include_colab_link": true
    },
    "kernelspec": {
      "name": "python3",
      "display_name": "Python 3"
    },
    "accelerator": "GPU"
  },
  "cells": [
    {
      "cell_type": "markdown",
      "metadata": {
        "id": "view-in-github",
        "colab_type": "text"
      },
      "source": [
        "<a href=\"https://colab.research.google.com/github/mrdang1407/deeplearning/blob/master/Homework_3_MNIST_with_CNN.ipynb\" target=\"_parent\"><img src=\"https://colab.research.google.com/assets/colab-badge.svg\" alt=\"Open In Colab\"/></a>"
      ]
    },
    {
      "cell_type": "markdown",
      "metadata": {
        "id": "OX7VWYAR48Zc",
        "colab_type": "text"
      },
      "source": [
        "Exercise 3\n",
        "In this exercise, you will try to improve MNIST to 99.8% accuracy or more using only a single convolutional layer and a single MaxPooling 2D. You should stop training once the accuracy goes above this amount. It should happen in less than 20 epochs, so it's ok to hard code the number of epochs for training, but your training must end once it hits the above metric. If it doesn't, then you'll need to redesign your layers.\n",
        "\n",
        "I've started the code for you -- you need to finish it!\n",
        "\n",
        "When 99.8% accuracy has been hit, you should print out the string \"Reached 99.8% accuracy so cancelling training!\"\n"
      ]
    },
    {
      "cell_type": "code",
      "metadata": {
        "id": "N2TED5qT4_4n",
        "colab_type": "code",
        "colab": {
          "base_uri": "https://localhost:8080/",
          "height": 337
        },
        "outputId": "1e7cd2e8-e450-4a21-c968-adca86f06d52"
      },
      "source": [
        "import tensorflow as tf\n",
        "from tensorflow import keras\n",
        "from tensorflow.keras.callbacks import Callback, ModelCheckpoint\n",
        "from tensorflow.keras.callbacks import EarlyStopping\n",
        "import matplotlib.pyplot as plt\n",
        "from IPython.display import clear_output\n",
        "# YOUR CODE STARTS HERE\n",
        "\n",
        "# YOUR CODE ENDS HERE\n",
        "\n",
        "mnist = tf.keras.datasets.mnist\n",
        "(training_images, training_labels), (test_images, test_labels) = mnist.load_data()\n",
        "print(training_images.shape[0])\n",
        "print(test_images.shape[0])\n",
        "# YOUR CODE STARTS HERE\n",
        "training_images = training_images.reshape(training_images.shape[0],28,28,1)\n",
        "training_images = training_images / 255.0\n",
        "\n",
        "test_images = test_images.reshape(test_images.shape[0],28,28,1)\n",
        "test_images = test_images / 255.0\n",
        "# YOUR CODE ENDS HERE\n",
        "class PlotLosses(Callback):    \n",
        "  def on_train_begin(self, logs={}):  \n",
        "    self.i = 0  \n",
        "    self.x = []  \n",
        "    self.losses = [] \n",
        "    self.val_losses = []\n",
        "    self.fig = plt.figure()\n",
        "    self.logs = []\n",
        "  def on_epoch_end(self, epoch, logs={}):\n",
        "      self.logs.append(logs)\n",
        "      self.x.append(self.i)\n",
        "      self.losses.append(logs.get('loss')) \n",
        "      self.val_losses.append(logs.get('val_loss'))\n",
        "      self.i += 1\n",
        "      clear_output(wait=True)\n",
        "      plt.plot(self.x, self.losses, label=\"loss\")\n",
        "      plt.plot(self.x, self.val_losses, label=\"val_loss\")\n",
        "      plt.legend()\n",
        "      plt.show();\n",
        "plot_losses = PlotLosses()\n",
        "class EarlyStopping(Callback):\n",
        "  def on_epoch_end(self, epoch, logs={}):\n",
        "       if(logs.get('acc')>=0.998):\u000b \n",
        "        print(\"\\nReached 99.8% accuracy so cancelling training!\") \n",
        "        self.model.stop_training = True\n",
        "\n",
        "early_stopping = EarlyStopping()\n",
        "model = tf.keras.models.Sequential([\n",
        "    tf.keras.layers.Conv2D(64,(3,3), activation='relu',input_shape=(28,28,1)),\n",
        "    tf.keras.layers.MaxPooling2D(2,2),\n",
        "  \n",
        "    tf.keras.layers.Flatten(),\n",
        "    tf.keras.layers.Dense(256, activation='relu'),\n",
        " \n",
        "    tf.keras.layers.Dense(10, activation='softmax')\n",
        "])\n",
        "\n",
        "model.compile(optimizer='adam',               \n",
        "              loss='sparse_categorical_crossentropy',\n",
        "              metrics=['accuracy'])\n",
        "\n",
        "model.summary()\n",
        "model.fit(training_images,training_labels,epochs=20,callbacks=[plot_losses, early_stopping])\n",
        "test_loss = model.evaluate(test_images, test_labels)"
      ],
      "execution_count": 20,
      "outputs": [
        {
          "output_type": "display_data",
          "data": {
            "image/png": "[encoded data removed]",
            "text/plain": [
              "<Figure size 432x288 with 1 Axes>"
            ]
          },
          "metadata": {
            "tags": []
          }
        },
        {
          "output_type": "stream",
          "text": [
            "\n",
            "Reached 99.8% accuracy so cancelling training!\n",
            "60000/60000 [==============================] - 15s 250us/sample - loss: 0.0052 - acc: 0.9984\n",
            "10000/10000 [==============================] - 1s 105us/sample - loss: 0.0724 - acc: 0.9822\n"
          ],
          "name": "stdout"
        }
      ]
    }
  ]
}